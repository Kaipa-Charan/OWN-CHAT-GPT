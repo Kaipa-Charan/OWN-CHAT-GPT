{
  "nbformat": 4,
  "nbformat_minor": 0,
  "metadata": {
    "colab": {
      "provenance": []
    },
    "kernelspec": {
      "name": "python3",
      "display_name": "Python 3"
    },
    "language_info": {
      "name": "python"
    }
  },
  "cells": [
    {
      "cell_type": "code",
      "source": [
        "pip install openai"
      ],
      "metadata": {
        "colab": {
          "base_uri": "https://localhost:8080/"
        },
        "id": "6Xh9BNDewK0z",
        "outputId": "65a94733-43fe-4d1a-8c57-5ac0314ff72b"
      },
      "execution_count": 6,
      "outputs": [
        {
          "output_type": "stream",
          "name": "stdout",
          "text": [
            "Looking in indexes: https://pypi.org/simple, https://us-python.pkg.dev/colab-wheels/public/simple/\n",
            "Requirement already satisfied: openai in /usr/local/lib/python3.8/dist-packages (0.26.5)\n",
            "Requirement already satisfied: tqdm in /usr/local/lib/python3.8/dist-packages (from openai) (4.64.1)\n",
            "Requirement already satisfied: aiohttp in /usr/local/lib/python3.8/dist-packages (from openai) (3.8.3)\n",
            "Requirement already satisfied: requests>=2.20 in /usr/local/lib/python3.8/dist-packages (from openai) (2.25.1)\n",
            "Requirement already satisfied: chardet<5,>=3.0.2 in /usr/local/lib/python3.8/dist-packages (from requests>=2.20->openai) (4.0.0)\n",
            "Requirement already satisfied: idna<3,>=2.5 in /usr/local/lib/python3.8/dist-packages (from requests>=2.20->openai) (2.10)\n",
            "Requirement already satisfied: certifi>=2017.4.17 in /usr/local/lib/python3.8/dist-packages (from requests>=2.20->openai) (2022.12.7)\n",
            "Requirement already satisfied: urllib3<1.27,>=1.21.1 in /usr/local/lib/python3.8/dist-packages (from requests>=2.20->openai) (1.24.3)\n",
            "Requirement already satisfied: charset-normalizer<3.0,>=2.0 in /usr/local/lib/python3.8/dist-packages (from aiohttp->openai) (2.1.1)\n",
            "Requirement already satisfied: attrs>=17.3.0 in /usr/local/lib/python3.8/dist-packages (from aiohttp->openai) (22.2.0)\n",
            "Requirement already satisfied: async-timeout<5.0,>=4.0.0a3 in /usr/local/lib/python3.8/dist-packages (from aiohttp->openai) (4.0.2)\n",
            "Requirement already satisfied: multidict<7.0,>=4.5 in /usr/local/lib/python3.8/dist-packages (from aiohttp->openai) (6.0.4)\n",
            "Requirement already satisfied: yarl<2.0,>=1.0 in /usr/local/lib/python3.8/dist-packages (from aiohttp->openai) (1.8.2)\n",
            "Requirement already satisfied: frozenlist>=1.1.1 in /usr/local/lib/python3.8/dist-packages (from aiohttp->openai) (1.3.3)\n",
            "Requirement already satisfied: aiosignal>=1.1.2 in /usr/local/lib/python3.8/dist-packages (from aiohttp->openai) (1.3.1)\n"
          ]
        }
      ]
    },
    {
      "cell_type": "code",
      "source": [
        "import openai"
      ],
      "metadata": {
        "id": "hRd0P8jYwK_h"
      },
      "execution_count": 7,
      "outputs": []
    },
    {
      "cell_type": "code",
      "source": [
        "def askGPT(text):\n",
        "  openai.api_key = 'Enter your api key'\n",
        "  response = openai.Completion.create(\n",
        "      engine = \"text-davinci-003\",\n",
        "      prompt = text,\n",
        "      temperature  = 0.6,\n",
        "      max_tokens = 150,\n",
        "  )\n",
        "  return print(response.choices[0].text)\n",
        "\n",
        "def main():\n",
        "  while True:\n",
        "    print('KAIPA SRI CHARAN:Ask the Questions\\n')\n",
        "    myQn = input()\n",
        "    askGPT(myQn)\n",
        "    print(\"\\n\")\n",
        "\n",
        "main()"
      ],
      "metadata": {
        "colab": {
          "base_uri": "https://localhost:8080/"
        },
        "id": "1R2epBEvwlJB",
        "outputId": "3ff13ffb-3a8f-407e-db2e-c7e98cc1fff6"
      },
      "execution_count": null,
      "outputs": [
        {
          "output_type": "stream",
          "name": "stdout",
          "text": [
            "KAIPA SRI CHARAN:Ask the Questions\n",
            "\n",
            "Java Code for hello world\n",
            "\n",
            "\n",
            "public class HelloWorld {\n",
            "  public static void main(String[] args) {\n",
            "    System.out.println(\"Hello World!\");\n",
            "  }\n",
            "}\n",
            "\n",
            "\n",
            "KAIPA SRI CHARAN:Ask the Questions\n",
            "\n",
            "Indias best top 10 private universities\n",
            "\n",
            "\n",
            "1. Manipal Academy of Higher Education\n",
            "2. Amity University\n",
            "3. VIT University\n",
            "4. SRM University\n",
            "5. Christ University\n",
            "6. Symbiosis International University\n",
            "7. OP Jindal Global University\n",
            "8. Shiv Nadar University\n",
            "9. Birla Institute of Technology and Science\n",
            "10. Ashoka University\n",
            "\n",
            "\n",
            "KAIPA SRI CHARAN:Ask the Questions\n",
            "\n",
            "Telangana's top 10 best private colleges\n",
            "\n",
            "\n",
            "1. Vignan University\n",
            "2. ICFAI Business School\n",
            "3. Indian School of Business\n",
            "4. BITS Pilani Hyderabad\n",
            "5. VNR Vignana Jyothi Institute of Engineering and Technology\n",
            "6. Chaitanya Bharathi Institute of Technology\n",
            "7. Mahindra Ecole Centrale\n",
            "8. Chaitanya Bharathi Institute of Technology\n",
            "9. Vivekananda Institute of Technology and Science\n",
            "10. Acharya NG Ranga Agricultural University\n",
            "\n",
            "\n",
            "KAIPA SRI CHARAN:Ask the Questions\n",
            "\n",
            "Telangana's top 10 best private universities\n",
            "\n",
            "\n",
            "1. Vignan University, Guntur\n",
            "2. Amity University, Hyderabad\n",
            "3. Manipal University, Hyderabad\n",
            "4. ICFAI Foundation for Higher Education, Hyderabad\n",
            "5. Chaitanya Bharathi Institute of Technology, Hyderabad\n",
            "6. Sri Indu Institute of Engineering and Technology, Hyderabad\n",
            "7. Nizam’s Institute of Medical Sciences, Hyderabad\n",
            "8. Nalsar University of Law, Hyderabad\n",
            "9. St. Francis College for Women, Hyderabad\n",
            "10. Vasavi College of Engineering, Hyderabad\n",
            "\n",
            "\n",
            "KAIPA SRI CHARAN:Ask the Questions\n",
            "\n"
          ]
        }
      ]
    }
  ]
}
